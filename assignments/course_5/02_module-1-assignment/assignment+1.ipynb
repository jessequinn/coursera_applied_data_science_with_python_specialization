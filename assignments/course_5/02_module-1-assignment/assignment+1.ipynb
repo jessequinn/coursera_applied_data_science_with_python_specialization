{
 "cells": [
  {
   "cell_type": "markdown",
   "metadata": {},
   "source": [
    "---\n",
    "\n",
    "_You are currently looking at **version 1.1** of this notebook. To download notebooks and datafiles, as well as get help on Jupyter notebooks in the Coursera platform, visit the [Jupyter Notebook FAQ](https://www.coursera.org/learn/python-social-network-analysis/resources/yPcBs) course resource._\n",
    "\n",
    "---"
   ]
  },
  {
   "cell_type": "markdown",
   "metadata": {},
   "source": [
    "# Assignment 1 - Creating and Manipulating Graphs\n",
    "\n",
    "Eight employees at a small company were asked to choose 3 movies that they would most enjoy watching for the upcoming company movie night. These choices are stored in the file `Employee_Movie_Choices.txt`.\n",
    "\n",
    "A second file, `Employee_Relationships.txt`, has data on the relationships between different coworkers. \n",
    "\n",
    "The relationship score has value of `-100` (Enemies) to `+100` (Best Friends). A value of zero means the two employees haven't interacted or are indifferent.\n",
    "\n",
    "Both files are tab delimited."
   ]
  },
  {
   "cell_type": "code",
   "execution_count": 1,
   "metadata": {},
   "outputs": [],
   "source": [
    "import networkx as nx\n",
    "import pandas as pd\n",
    "import numpy as np\n",
    "from networkx.algorithms import bipartite\n",
    "\n",
    "\n",
    "# This is the set of employees\n",
    "employees = set(['Pablo',\n",
    "                 'Lee',\n",
    "                 'Georgia',\n",
    "                 'Vincent',\n",
    "                 'Andy',\n",
    "                 'Frida',\n",
    "                 'Joan',\n",
    "                 'Claude'])\n",
    "\n",
    "# This is the set of movies\n",
    "movies = set(['The Shawshank Redemption',\n",
    "              'Forrest Gump',\n",
    "              'The Matrix',\n",
    "              'Anaconda',\n",
    "              'The Social Network',\n",
    "              'The Godfather',\n",
    "              'Monty Python and the Holy Grail',\n",
    "              'Snakes on a Plane',\n",
    "              'Kung Fu Panda',\n",
    "              'The Dark Knight',\n",
    "              'Mean Girls'])\n",
    "\n",
    "\n",
    "# you can use the following function to plot graphs\n",
    "# make sure to comment it out before submitting to the autograder\n",
    "def plot_graph(G, weight_name=None):\n",
    "    '''\n",
    "    G: a networkx G\n",
    "    weight_name: name of the attribute for plotting edge weights (if G is weighted)\n",
    "    '''\n",
    "    %matplotlib notebook\n",
    "    import matplotlib.pyplot as plt\n",
    "    \n",
    "    plt.figure()\n",
    "    pos = nx.spring_layout(G)\n",
    "    edges = G.edges()\n",
    "    weights = None\n",
    "    \n",
    "    if weight_name:\n",
    "        weights = [int(G[u][v][weight_name]) for u,v in edges]\n",
    "        labels = nx.get_edge_attributes(G,weight_name)\n",
    "        nx.draw_networkx_edge_labels(G,pos,edge_labels=labels)\n",
    "        nx.draw_networkx(G, pos, edges=edges, width=weights);\n",
    "    else:\n",
    "        nx.draw_networkx(G, pos, edges=edges);"
   ]
  },
  {
   "cell_type": "markdown",
   "metadata": {},
   "source": [
    "### Question 1\n",
    "\n",
    "Using NetworkX, load in the bipartite graph from `Employee_Movie_Choices.txt` and return that graph.\n",
    "\n",
    "*This function should return a networkx graph with 19 nodes and 24 edges*"
   ]
  },
  {
   "cell_type": "code",
   "execution_count": 2,
   "metadata": {},
   "outputs": [],
   "source": [
    "# !head -5 Employee_Movie_Choices.txt"
   ]
  },
  {
   "cell_type": "code",
   "execution_count": 3,
   "metadata": {},
   "outputs": [],
   "source": [
    "def answer_one():\n",
    "            \n",
    "    return nx.read_edgelist('Employee_Movie_Choices.txt',delimiter='\\t')"
   ]
  },
  {
   "cell_type": "code",
   "execution_count": 4,
   "metadata": {},
   "outputs": [],
   "source": [
    "# plot_graph(answer_one())"
   ]
  },
  {
   "cell_type": "markdown",
   "metadata": {},
   "source": [
    "### Question 2\n",
    "\n",
    "Using the graph from the previous question, add nodes attributes named `'type'` where movies have the value `'movie'` and employees have the value `'employee'` and return that graph.\n",
    "\n",
    "*This function should return a networkx graph with node attributes `{'type': 'movie'}` or `{'type': 'employee'}`*"
   ]
  },
  {
   "cell_type": "code",
   "execution_count": 5,
   "metadata": {},
   "outputs": [
    {
     "data": {
      "text/plain": [
       "<networkx.classes.graph.Graph at 0x11e05c080>"
      ]
     },
     "execution_count": 5,
     "metadata": {},
     "output_type": "execute_result"
    }
   ],
   "source": [
    "def answer_two(): \n",
    "    '''\n",
    "    Reference: https://networkx.github.io/documentation/networkx-1.11/reference/generated/networkx.algorithms.bipartite.projection.weighted_projected_graph.html\n",
    "    '''\n",
    "    edgelist = nx.read_edgelist('Employee_Movie_Choices.txt',delimiter='\\t')\n",
    "    [edgelist.add_node(node, type='employee') if node in employees else edgelist.add_node(node, type='movie') for node in edgelist.nodes()]\n",
    "    \n",
    "    return edgelist\n",
    "\n",
    "answer_two()"
   ]
  },
  {
   "cell_type": "code",
   "execution_count": 6,
   "metadata": {},
   "outputs": [],
   "source": [
    "# plot_graph(answer_two())"
   ]
  },
  {
   "cell_type": "markdown",
   "metadata": {
    "collapsed": true
   },
   "source": [
    "### Question 3\n",
    "\n",
    "Find a weighted projection of the graph from `answer_two` which tells us how many movies different pairs of employees have in common.\n",
    "\n",
    "*This function should return a weighted projected graph.*"
   ]
  },
  {
   "cell_type": "code",
   "execution_count": 7,
   "metadata": {},
   "outputs": [
    {
     "data": {
      "text/plain": [
       "<networkx.classes.graph.Graph at 0x11e05cb38>"
      ]
     },
     "execution_count": 7,
     "metadata": {},
     "output_type": "execute_result"
    }
   ],
   "source": [
    "def answer_three():\n",
    "    '''\n",
    "    Reference: https://networkx.github.io/documentation/networkx-1.11/reference/generated/networkx.algorithms.bipartite.projection.weighted_projected_graph.html?highlight=weighted_projected_graph#networkx.algorithms.bipartite.projection.weighted_projected_graph\n",
    "    '''\n",
    "    edgelist = nx.read_edgelist('Employee_Movie_Choices.txt',delimiter='\\t')\n",
    "    [edgelist.add_node(node, type='employee') if node in employees else edgelist.add_node(node, type='movie') for node in edgelist.nodes()]\n",
    "    \n",
    "    return bipartite.weighted_projected_graph(edgelist, employees)\n",
    "\n",
    "answer_three()"
   ]
  },
  {
   "cell_type": "code",
   "execution_count": 8,
   "metadata": {},
   "outputs": [],
   "source": [
    "# plot_graph(answer_three())"
   ]
  },
  {
   "cell_type": "markdown",
   "metadata": {
    "collapsed": true
   },
   "source": [
    "### Question 4\n",
    "\n",
    "Suppose you'd like to find out if people that have a high relationship score also like the same types of movies.\n",
    "\n",
    "Find the Pearson correlation ( using `DataFrame.corr()` ) between employee relationship scores and the number of movies they have in common. If two employees have no movies in common it should be treated as a 0, not a missing value, and should be included in the correlation calculation.\n",
    "\n",
    "*This function should return a float.*"
   ]
  },
  {
   "cell_type": "code",
   "execution_count": 11,
   "metadata": {},
   "outputs": [
    {
     "name": "stdout",
     "output_type": "stream",
     "text": [
      "          L        R  Film Score  Relaltionship Score\n",
      "0    Claude  Georgia         3.0                   90\n",
      "1      Andy    Pablo         1.0                  -10\n",
      "2      Andy     Joan         1.0                   30\n",
      "3      Andy  Georgia         1.0                  -10\n",
      "4      Andy    Frida         1.0                   20\n",
      "5      Joan      Lee         3.0                   70\n",
      "6      Andy      Lee         1.0                  -10\n",
      "7      Andy   Claude         1.0                    0\n",
      "8     Pablo  Vincent         1.0                  -20\n",
      "9     Frida  Vincent         2.0                   60\n",
      "10    Frida    Pablo         2.0                   50\n",
      "11     Andy  Vincent         0.0                   20\n",
      "12   Claude    Frida         0.0                    0\n",
      "13   Claude     Joan         0.0                    0\n",
      "14   Claude      Lee         0.0                    0\n",
      "15   Claude    Pablo         0.0                   10\n",
      "16   Claude  Vincent         0.0                    0\n",
      "17    Frida  Georgia         0.0                    0\n",
      "18    Frida     Joan         0.0                    0\n",
      "19    Frida      Lee         0.0                    0\n",
      "20  Georgia     Joan         0.0                    0\n",
      "21  Georgia      Lee         0.0                   10\n",
      "22  Georgia    Pablo         0.0                    0\n",
      "23  Georgia  Vincent         0.0                    0\n",
      "24     Joan    Pablo         0.0                    0\n",
      "25     Joan  Vincent         0.0                   10\n",
      "26      Lee    Pablo         0.0                    0\n",
      "27      Lee  Vincent         0.0                    0\n"
     ]
    },
    {
     "data": {
      "text/plain": [
       "0.7883962221733474"
      ]
     },
     "execution_count": 11,
     "metadata": {},
     "output_type": "execute_result"
    }
   ],
   "source": [
    "def answer_four():\n",
    "    '''\n",
    "    Reference: https://stackoverflow.com/questions/50502038/how-can-i-swap-specific-column-values-in-dataframe\n",
    "    '''\n",
    "    edgelist1 = nx.read_edgelist('Employee_Movie_Choices.txt',delimiter='\\t')\n",
    "    [edgelist1.add_node(node, type='employee') if node in employees else edgelist1.add_node(node, type='movie') for node in edgelist1.nodes()]\n",
    "    weigheted_prj = bipartite.weighted_projected_graph(edgelist1, employees)\n",
    "    df1 = pd.DataFrame(weigheted_prj.edges(data=True),columns=['L','R','Film Score'])\n",
    "    df1 = pd.concat([df1, df1]).reset_index().drop(['index'],axis=1)\n",
    "    df1.loc[11:,['L','R']] = df1.loc[:10,['R','L']].values\n",
    "  \n",
    "    edgelist2 = nx.read_edgelist('Employee_Relationships.txt',data=[('Rel Score', int)])\n",
    "    df2 = pd.DataFrame(edgelist2.edges(data=True), columns=['L','R','Relaltionship Score'])\n",
    "    \n",
    "    df1['Film Score'] = df1['Film Score'].map(lambda x: x['weight'] if type(x)==dict else None)\n",
    "    df2['Relaltionship Score'] = df2['Relaltionship Score'].map(lambda x: x['Rel Score'])\n",
    "    \n",
    "    df = pd.merge(df1,df2,on = ['L','R'],how='right')\n",
    "    df['Film Score'].fillna(value=0,inplace=True)\n",
    "    \n",
    "    return df['Film Score'].corr(df['Relaltionship Score'])\n",
    "\n",
    "answer_four()"
   ]
  },
  {
   "cell_type": "code",
   "execution_count": null,
   "metadata": {},
   "outputs": [],
   "source": []
  }
 ],
 "metadata": {
  "coursera": {
   "course_slug": "python-social-network-analysis",
   "graded_item_id": "YNa9b",
   "launcher_item_id": "hvNc1",
   "part_id": "VbyiB"
  },
  "kernelspec": {
   "display_name": "Python 3",
   "language": "python",
   "name": "python3"
  },
  "language_info": {
   "codemirror_mode": {
    "name": "ipython",
    "version": 3
   },
   "file_extension": ".py",
   "mimetype": "text/x-python",
   "name": "python",
   "nbconvert_exporter": "python",
   "pygments_lexer": "ipython3",
   "version": "3.7.0"
  }
 },
 "nbformat": 4,
 "nbformat_minor": 2
}
